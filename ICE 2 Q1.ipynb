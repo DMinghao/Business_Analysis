{
 "cells": [
  {
   "cell_type": "markdown",
   "metadata": {},
   "source": [
    "# ICE 2 \n"
   ]
  },
  {
   "cell_type": "markdown",
   "metadata": {},
   "source": [
    "Q1\n",
    "\n",
    "The Taste of Nature pet food company produces dog and cat food. Each food is comprised of meat like beef or pork, corn, and fillers like cereal by-products.  The company earns a profit on each product but there is a limited demand for them.  The table below summarizes the number of pounds of ingredients required and available, profits and demand.  The company wants to plan their product mix to maximize their profit.\n",
    "\n",
    "(a)\tSuppose that the demand represents the minimum amount the customers will purchase, i.e., the total number of bags of dog and cat food the firm can sell should be at least 40 and 30, respectively. Solve this problem using solver. How much should the firm produce to maximize profits? \n",
    "\n",
    "(b)\tSuppose that the demand represents the maximum amount the customers will purchase, i.e., the total number of bags of dog and cat food the firm can sell is at most 40 and 30, respectively. Solve this problem using solver. How much should the firm produce to maximize profits? \n",
    "\n",
    "(c)\tFor part b, what is the marginal value of one more pound of meat, i.e., how much does the profit change when the firm has 101 lbs of meat instead of 100 lbs? \n"
   ]
  },
  {
   "cell_type": "code",
   "execution_count": 1,
   "metadata": {},
   "outputs": [],
   "source": [
    "#Q1\n",
    "#a\n",
    "# import scipy\n",
    "from scipy.optimize import linprog"
   ]
  },
  {
   "cell_type": "code",
   "execution_count": 3,
   "metadata": {},
   "outputs": [
    {
     "data": {
      "text/plain": [
       "     con: array([], dtype=float64)\n",
       "     fun: 310.0\n",
       " message: \"Phase 1 of the simplex method failed to find a feasible solution. The pseudo-objective function evaluates to 7.2e+02 which exceeds the required tolerance of 1e-09 for a solution to be considered 'close enough' to zero to be a basic solution. Consider increasing the tolerance to be greater than 7.2e+02. If this tolerance is unacceptably  large the problem may be infeasible.\"\n",
       "     nit: 0\n",
       "   slack: array([-210., -210., -300.,    0.,    0.])\n",
       "  status: 2\n",
       " success: False\n",
       "       x: array([40., 30.])"
      ]
     },
     "execution_count": 3,
     "metadata": {},
     "output_type": "execute_result"
    }
   ],
   "source": [
    "\n",
    "obj1 = [4, 5]\n",
    " #Min problem\n",
    " #  4 means the coefficient for X2 = bags of Cat food to produce\n",
    " #  5 means the coefficient for X1 = bags of Dog food to produce\n",
    "lhs_ineq1 = [[4,  5], # Meat material available constraint left side\n",
    "            [6,  3], # Corn material available constraint left side\n",
    "            [4, 10], # Filler material available constraint left side\n",
    "            [-1, 0], # Dog food demand constraint left side\n",
    "            [0, -1]] # Cat food demand constraint left side\n",
    "                     # The total number of bags of dog and cat food the firm can sell should be at least 40 and 30, respectively.\n",
    "rhs_ineq1= [100, # Meat material available constraint right side\n",
    "            120,  # Corn material available constraint right side\n",
    "            160,  # Filler material available constraint right side\n",
    "            -40,  # Dog food demand constraint right side\n",
    "            -30]  # Cat food demand constraint right side\n",
    "bnd1 = [(0, float(\"inf\")),\n",
    "       (0, float(\"inf\"))]\n",
    "\n",
    "opt1 = linprog(c=obj1, A_ub=lhs_ineq1, b_ub=rhs_ineq1,\n",
    "                bounds=bnd1,\n",
    "               method=\"simplex\")\n",
    "opt1\n",
    " \t\n",
    "#Solution: Solver couldn't find a feasible solution which means that there is no solution to this problem. \n",
    "#The firm cannot produce at least 40 and 30 bags of dog and cat food, respectively, with the available materials."
   ]
  },
  {
   "cell_type": "code",
   "execution_count": 4,
   "metadata": {},
   "outputs": [
    {
     "data": {
      "text/plain": [
       "     con: array([], dtype=float64)\n",
       "     fun: -100.0\n",
       " message: 'Optimization terminated successfully.'\n",
       "     nit: 5\n",
       "   slack: array([ 0., 24.,  0., 30., 18.])\n",
       "  status: 0\n",
       " success: True\n",
       "       x: array([10., 12.])"
      ]
     },
     "execution_count": 4,
     "metadata": {},
     "output_type": "execute_result"
    }
   ],
   "source": [
    "#Q1\n",
    "#b\n",
    "from scipy.optimize import linprog\n",
    "obj2 = [-4, -5]\n",
    " # Max problem\n",
    " #  4 means the coefficient for X2 = bags of Cat food to produce\n",
    " #  5 means the coefficient for X1 = bags of Dog food to produce\n",
    "\n",
    "lhs_ineq2 = [[4,  5], \n",
    "            [6,  3], \n",
    "            [4, 10], \n",
    "            [1, 0], \n",
    "            [0, 1]] # The total number of bags of dog and cat food the firm can sell is at most 40 and 30, respectively. \n",
    "rhs_ineq2 = [100,\n",
    "            120,\n",
    "            160, \n",
    "            40, \n",
    "            30]  \n",
    "\n",
    "bnd2 = [(0, float(\"inf\")),\n",
    "       (0, float(\"inf\"))]\n",
    "\n",
    "opt2 = linprog(c=obj2, A_ub=lhs_ineq2, b_ub=rhs_ineq2,\n",
    "                bounds=bnd2,\n",
    "               method=\"simplex\")\n",
    "opt2\n",
    "#Solution: The firm should produce 10 and 12 bags of dog and cat food, respectively. The optimal profit is $100. "
   ]
  },
  {
   "cell_type": "code",
   "execution_count": 5,
   "metadata": {},
   "outputs": [
    {
     "data": {
      "text/plain": [
       "     con: array([], dtype=float64)\n",
       "     fun: -101.0\n",
       " message: 'Optimization terminated successfully.'\n",
       "     nit: 5\n",
       "   slack: array([ 0. , 21.6,  0. , 29.5, 18.2])\n",
       "  status: 0\n",
       " success: True\n",
       "       x: array([10.5, 11.8])"
      ]
     },
     "execution_count": 5,
     "metadata": {},
     "output_type": "execute_result"
    }
   ],
   "source": [
    "#Q1\n",
    "#c\n",
    "#Here is uing scipy to solve this problem.\n",
    "from scipy.optimize import linprog\n",
    "obj3 = [-4, -5]\n",
    " # Max problem\n",
    " #  4 means the coefficient for X2 = bags of Cat food to produce\n",
    " #  5 means the coefficient for X1 = bags of Dog food to produce\n",
    "\n",
    "lhs_ineq3 = [[4,  5], \n",
    "            [6,  3], \n",
    "            [4, 10], \n",
    "            [1, 0], \n",
    "            [0, 1]]\n",
    "rhs_ineq3 = [101,  # The firm has 101 lbs of meat instead of 100 lbs now, \n",
    "                   # so meat material available constraint right side is 101 now.  \n",
    "            120,\n",
    "            160, \n",
    "            40, \n",
    "            30]  \n",
    "\n",
    "bnd3 = [(0, float(\"inf\")),\n",
    "       (0, float(\"inf\"))]\n",
    "\n",
    "opt3 = linprog(c=obj3, A_ub=lhs_ineq3, b_ub=rhs_ineq3,\n",
    "                bounds=bnd3,\n",
    "               method=\"simplex\")\n",
    "opt3\n",
    "#Solution: The optimal profit increases from $100 to $101. Hence, one more pound of meat is worth at most $1 to the firm."
   ]
  },
  {
   "cell_type": "code",
   "execution_count": null,
   "metadata": {},
   "outputs": [],
   "source": []
  }
 ],
 "metadata": {
  "kernelspec": {
   "display_name": "Python 3",
   "language": "python",
   "name": "python3"
  },
  "language_info": {
   "codemirror_mode": {
    "name": "ipython",
    "version": 3
   },
   "file_extension": ".py",
   "mimetype": "text/x-python",
   "name": "python",
   "nbconvert_exporter": "python",
   "pygments_lexer": "ipython3",
   "version": "3.8.3"
  }
 },
 "nbformat": 4,
 "nbformat_minor": 2
}
