{
 "metadata": {
  "language_info": {
   "codemirror_mode": {
    "name": "ipython",
    "version": 3
   },
   "file_extension": ".py",
   "mimetype": "text/x-python",
   "name": "python",
   "nbconvert_exporter": "python",
   "pygments_lexer": "ipython3",
   "version": "3.8.5-final"
  },
  "orig_nbformat": 2,
  "kernelspec": {
   "name": "python38564bitbcc4d76a06654eb692dff75496a67b7b",
   "display_name": "Python 3.8.5 64-bit",
   "language": "python"
  }
 },
 "nbformat": 4,
 "nbformat_minor": 2,
 "cells": [
  {
   "source": [
    "# ICE 2 \n"
   ],
   "cell_type": "markdown",
   "metadata": {}
  },
  {
   "source": [
    "Q1\n",
    "\n",
    "The Taste of Nature pet food company produces dog and cat food. Each food is comprised of meat like beef or pork, corn, and fillers like cereal by-products.  The company earns a profit on each product but there is a limited demand for them.  The table below summarizes the number of pounds of ingredients required and available, profits and demand.  The company wants to plan their product mix to maximize their profit.\n",
    "\n",
    "(a)\tSuppose that the demand represents the minimum amount the customers will purchase, i.e., the total number of bags of dog and cat food the firm can sell should be at least 40 and 30, respectively. Solve this problem using solver. How much should the firm produce to maximize profits? \n",
    "\n",
    "(b)\tSuppose that the demand represents the maximum amount the customers will purchase, i.e., the total number of bags of dog and cat food the firm can sell is at most 40 and 30, respectively. Solve this problem using solver. How much should the firm produce to maximize profits? \n",
    "\n",
    "(c)\tFor part b, what is the marginal value of one more pound of meat, i.e., how much does the profit change when the firm has 101 lbs of meat instead of 100 lbs? \n"
   ],
   "cell_type": "markdown",
   "metadata": {}
  },
  {
   "cell_type": "code",
   "execution_count": null,
   "metadata": {},
   "outputs": [],
   "source": [
    "#Q1\n",
    "#a\n",
    "from scipy.optimize import linprog\n",
    "obj1 = [4, 5]\n",
    " #     ─┬ ─┬\n",
    " #      │  └┤ Coefficient for X2 = bags of Cat food to produce\n",
    " #      └────┤ Coefficient for X1 = bags of Dog food to produce\n",
    " lhs_ineq1 = [[4,  5], \n",
    "            [6,  3], \n",
    "            [4, 10], \n",
    "            [-1, 0], \n",
    "            [0, -1]] \n",
    " rhs_ineq = [100,\n",
    "            120,\n",
    "            160, \n",
    "            -40, \n",
    "            -30] \n",
    "bnd1 = [(0, float(\"inf\")),\n",
    "       (0, float(\"inf\"))]\n",
    "\n",
    "opt1 = linprog(c=obj1, A_ub=lhs_ineq1, b_ub=rhs_ineq1,\n",
    "                bounds=bnd1,\n",
    "               method=\"simplex\")\n",
    "opt1\n",
    " \t\n"
   ]
  },
  {
   "cell_type": "code",
   "execution_count": 2,
   "metadata": {},
   "outputs": [
    {
     "output_type": "execute_result",
     "data": {
      "text/plain": [
       "     con: array([], dtype=float64)\n",
       "     fun: -100.0\n",
       " message: 'Optimization terminated successfully.'\n",
       "     nit: 5\n",
       "   slack: array([ 0., 24.,  0., 30., 18.])\n",
       "  status: 0\n",
       " success: True\n",
       "       x: array([10., 12.])"
      ]
     },
     "metadata": {},
     "execution_count": 2
    }
   ],
   "source": [
    "#Q1\n",
    "#b\n",
    "from scipy.optimize import linprog\n",
    "obj2 = [-4, -5]\n",
    " #      ─┬  ─┬\n",
    " #       │   └┤ Coefficient for x2\n",
    " #       └────┤ Coefficient for x1\n",
    "\n",
    "lhs_ineq2 = [[4,  5], \n",
    "            [6,  3], \n",
    "            [4, 10], \n",
    "            [1, 0], \n",
    "            [0, 1]] \n",
    "\n",
    "rhs_ineq2 = [100,\n",
    "            120,\n",
    "            160, \n",
    "            40, \n",
    "            30]  \n",
    "\n",
    "bnd2 = [(0, float(\"inf\")),\n",
    "       (0, float(\"inf\"))]\n",
    "\n",
    "opt2 = linprog(c=obj2, A_ub=lhs_ineq2, b_ub=rhs_ineq2,\n",
    "                bounds=bnd2,\n",
    "               method=\"simplex\")\n",
    "opt2"
   ]
  }
 ]
}