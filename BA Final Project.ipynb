{
 "metadata": {
  "language_info": {
   "codemirror_mode": {
    "name": "ipython",
    "version": 3
   },
   "file_extension": ".py",
   "mimetype": "text/x-python",
   "name": "python",
   "nbconvert_exporter": "python",
   "pygments_lexer": "ipython3",
   "version": "3.8.5-final"
  },
  "orig_nbformat": 2,
  "kernelspec": {
   "name": "python38564bitbcc4d76a06654eb692dff75496a67b7b",
   "display_name": "Python 3.8.5 64-bit",
   "language": "python"
  }
 },
 "nbformat": 4,
 "nbformat_minor": 2,
 "cells": [
  {
   "source": [
    "# ICE 2 \n"
   ],
   "cell_type": "markdown",
   "metadata": {}
  },
  {
   "cell_type": "code",
   "execution_count": 2,
   "metadata": {},
   "outputs": [
    {
     "output_type": "execute_result",
     "data": {
      "text/plain": [
       "     con: array([], dtype=float64)\n",
       "     fun: -100.0\n",
       " message: 'Optimization terminated successfully.'\n",
       "     nit: 5\n",
       "   slack: array([ 0., 24.,  0., 30., 18.])\n",
       "  status: 0\n",
       " success: True\n",
       "       x: array([10., 12.])"
      ]
     },
     "metadata": {},
     "execution_count": 2
    }
   ],
   "source": [
    "from scipy.optimize import linprog\n",
    "obj = [-4, -5]\n",
    " #      ─┬  ─┬\n",
    " #       │   └┤ Coefficient for x2\n",
    " #       └────┤ Coefficient for x1\n",
    "\n",
    "lhs_ineq = [[4,  5], \n",
    "            [6,  3], \n",
    "            [4, 10], \n",
    "            [1, 0], \n",
    "            [0, 1]] \n",
    "\n",
    "rhs_ineq = [100,\n",
    "            120,\n",
    "            160, \n",
    "            40, \n",
    "            30]  \n",
    "\n",
    "bnd = [(0, float(\"inf\")),\n",
    "       (0, float(\"inf\"))]\n",
    "\n",
    "opt = linprog(c=obj, A_ub=lhs_ineq, b_ub=rhs_ineq,\n",
    "                bounds=bnd,\n",
    "               method=\"simplex\")\n",
    "opt"
   ]
  }
 ]
}