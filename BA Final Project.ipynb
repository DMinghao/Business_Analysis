{
 "metadata": {
  "language_info": {
   "codemirror_mode": {
    "name": "ipython",
    "version": 3
   },
   "file_extension": ".py",
   "mimetype": "text/x-python",
   "name": "python",
   "nbconvert_exporter": "python",
   "pygments_lexer": "ipython3",
   "version": "3.8.5-final"
  },
  "orig_nbformat": 2,
  "kernelspec": {
   "name": "python38564bitbcc4d76a06654eb692dff75496a67b7b",
   "display_name": "Python 3.8.5 64-bit",
   "language": "python"
  }
 },
 "nbformat": 4,
 "nbformat_minor": 2,
 "cells": [
  {
   "source": [
    "# ICE 2 \n"
   ],
   "cell_type": "markdown",
   "metadata": {}
  },
  {
   "cell_type": "code",
   "execution_count": 2,
   "metadata": {},
   "outputs": [
    {
     "output_type": "execute_result",
     "data": {
      "text/plain": [
       "     con: array([], dtype=float64)\n",
       "     fun: -100.0\n",
       " message: 'Optimization terminated successfully.'\n",
       "     nit: 5\n",
       "   slack: array([ 0., 24.,  0., 30., 18.])\n",
       "  status: 0\n",
       " success: True\n",
       "       x: array([10., 12.])"
      ]
     },
     "metadata": {},
     "execution_count": 2
    }
   ],
   "source": [
    "from scipy.optimize import linprog\n",
    "obj = [-4, -5]\n",
    " #      ─┬  ─┬\n",
    " #       │   └┤ Coefficient for x2\n",
    " #       └────┤ Coefficient for x1\n",
    "\n",
    "lhs_ineq = [[4,  5],  # Red constraint left side\n",
    "            [6,  3],  # Blue constraint left side\n",
    "            [4, 10], \n",
    "            [1, 0], \n",
    "            [0, 1]]  # Yellow constraint left side\n",
    "\n",
    "rhs_ineq = [100,  # Red constraint right side\n",
    "            120,  # Blue constraint right side\n",
    "            160, # Yellow constraint right side\n",
    "            40, \n",
    "            30]  \n",
    "\n",
    "# lhs_eq = [[-1, 5]]  # Green constraint left side\n",
    "# rhs_eq = [15]       # Green constraint right side\n",
    "\n",
    "bnd = [(0, float(\"inf\")),  # Bounds of x\n",
    "       (0, float(\"inf\"))]  # Bounds of y\n",
    "\n",
    "opt = linprog(c=obj, A_ub=lhs_ineq, b_ub=rhs_ineq,\n",
    "            #    A_eq=lhs_eq, b_eq=rhs_eq,\n",
    "                # bounds=bnd,\n",
    "               method=\"simplex\")\n",
    "opt"
   ]
  },
  {
   "cell_type": "code",
   "execution_count": null,
   "metadata": {},
   "outputs": [],
   "source": [
    "# this is a test hi"
   ]
  }
 ]
}